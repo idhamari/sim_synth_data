{
  "cells": [
    {
      "cell_type": "markdown",
      "metadata": {
        "id": "view-in-github",
        "colab_type": "text"
      },
      "source": [
        "<a href=\"https://colab.research.google.com/github/idhamari/sim_synth_data/blob/main/1_Generating_random_numbers.ipynb\" target=\"_parent\"><img src=\"https://colab.research.google.com/assets/colab-badge.svg\" alt=\"Open In Colab\"/></a>"
      ]
    },
    {
      "cell_type": "code",
      "execution_count": 1,
      "metadata": {
        "id": "P4y4lUeFjQWV"
      },
      "outputs": [],
      "source": [
        "%matplotlib inline\n",
        "import matplotlib.pyplot as plt\n",
        "plt.rcParams['figure.figsize'] = [10, 5]\n",
        "\n",
        "import pdb\n",
        "import numpy as np\n",
        "\n",
        "## source code = https://github.com/scikit-learn/scikit-learn/blob/master/sklearn/datasets/samples_generator.py"
      ]
    },
    {
      "cell_type": "markdown",
      "metadata": {
        "id": "x2PB3RW0jQWZ"
      },
      "source": [
        "## How to use a pseudo random number generator?"
      ]
    },
    {
      "cell_type": "markdown",
      "metadata": {
        "id": "OxcrFYy-jQWb"
      },
      "source": [
        "### a pseudorandom number generator uses a deterministic process to generate a series of pseudorandom numbers. this is good enough for machine learning and synthetic data production"
      ]
    },
    {
      "cell_type": "code",
      "execution_count": 2,
      "metadata": {
        "id": "rxFFlsHyjQWc"
      },
      "outputs": [],
      "source": [
        "from random import seed, random"
      ]
    },
    {
      "cell_type": "code",
      "execution_count": 3,
      "metadata": {
        "colab": {
          "base_uri": "https://localhost:8080/"
        },
        "id": "pMkZzJvNjQWc",
        "outputId": "bae0d1ad-8590-4322-a5e6-a91946193efa"
      },
      "outputs": [
        {
          "output_type": "stream",
          "name": "stdout",
          "text": [
            "0.5219839097124932\n",
            "0.8066907771186791\n",
            "0.9604947743238768\n",
            "0.2896253777644655\n",
            "0.7661074377979527\n",
            "0.7042198668434126\n",
            "0.6613830572238304\n",
            "0.11016204891721182\n",
            "0.026936778790526805\n",
            "0.3841711045442975\n"
          ]
        }
      ],
      "source": [
        "seed(17)\n",
        "for i in range(10):\n",
        "    print(random())"
      ]
    },
    {
      "cell_type": "code",
      "execution_count": 4,
      "metadata": {
        "colab": {
          "base_uri": "https://localhost:8080/"
        },
        "id": "kCudJHUMjQWd",
        "outputId": "3507959d-70b7-459a-ed75-a7e0b2e6d8a4"
      },
      "outputs": [
        {
          "output_type": "stream",
          "name": "stdout",
          "text": [
            "0.5219839097124932\n",
            "0.8066907771186791\n",
            "0.9604947743238768\n",
            "0.2896253777644655\n",
            "0.7661074377979527\n",
            "0.7042198668434126\n",
            "0.6613830572238304\n",
            "0.11016204891721182\n",
            "0.026936778790526805\n",
            "0.3841711045442975\n"
          ]
        }
      ],
      "source": [
        "seed(17)\n",
        "for i in range(10):\n",
        "    print(random())"
      ]
    },
    {
      "cell_type": "markdown",
      "metadata": {
        "id": "hz85Tyz6jQWd"
      },
      "source": [
        "## Exercise: what kind of distribution is generated?"
      ]
    },
    {
      "cell_type": "code",
      "execution_count": 5,
      "metadata": {
        "colab": {
          "base_uri": "https://localhost:8080/",
          "height": 532
        },
        "id": "oovDSYJkjQWd",
        "outputId": "6e38222c-c6ea-448a-ed72-ffff858e5040"
      },
      "outputs": [
        {
          "output_type": "execute_result",
          "data": {
            "text/plain": [
              "(array([ 93.,  93., 118., 115., 101., 102.,  76., 102.,  89., 111.]),\n",
              " array([7.04233895e-05, 9.99080816e-02, 1.99745740e-01, 2.99583398e-01,\n",
              "        3.99421056e-01, 4.99258714e-01, 5.99096372e-01, 6.98934031e-01,\n",
              "        7.98771689e-01, 8.98609347e-01, 9.98447005e-01]),\n",
              " <BarContainer object of 10 artists>)"
            ]
          },
          "metadata": {},
          "execution_count": 5
        },
        {
          "output_type": "display_data",
          "data": {
            "text/plain": [
              "<Figure size 1000x500 with 1 Axes>"
            ],
            "image/png": "[encoded data removed]"
          },
          "metadata": {}
        }
      ],
      "source": [
        "samples = [random() for i in range(1000)]\n",
        "plt.hist(samples)"
      ]
    },
    {
      "cell_type": "markdown",
      "metadata": {
        "id": "JPx1jEsRjQWe"
      },
      "source": [
        "## Where do these random numbers come from?"
      ]
    },
    {
      "cell_type": "markdown",
      "metadata": {
        "id": "rOaNsvsnjQWe"
      },
      "source": [
        "#### Wichmann Hill pseudorandom number generator"
      ]
    },
    {
      "cell_type": "code",
      "execution_count": 6,
      "metadata": {
        "id": "imnmCP_WjQWf"
      },
      "outputs": [],
      "source": [
        "# # https://github.com/python/cpython/blob/2.7/Lib/random.py\n",
        "# # https://en.wikipedia.org/wiki/Wichmann%E2%80%93Hill\n",
        "# def random(self):\n",
        "#     \"\"\"Get the next random number in the range [0.0, 1.0).\"\"\"\n",
        "#     # Wichman-Hill random number generator.\n",
        "#     #\n",
        "#     # Wichmann, B. A. & Hill, I. D. (1982)\n",
        "#     # Algorithm AS 183:\n",
        "#     # An efficient and portable pseudo-random number generator\n",
        "#     # Applied Statistics 31 (1982) 188-190\n",
        "#     #\n",
        "#     # see also:\n",
        "#     #        Correction to Algorithm AS 183\n",
        "#     #        Applied Statistics 33 (1984) 123\n",
        "#     #\n",
        "#     #        McLeod, A. I. (1985)\n",
        "#     #        A remark on Algorithm AS 183\n",
        "#     #        Applied Statistics 34 (1985),198-200\n",
        "\n",
        "#     # This part is thread-unsafe:\n",
        "#     # BEGIN CRITICAL SECTION\n",
        "#     x, y, z = self._seed\n",
        "#     x = (171 * x) % 30269\n",
        "#     y = (172 * y) % 30307\n",
        "#     z = (170 * z) % 30323\n",
        "#     self._seed = x, y, z\n",
        "#     # END CRITICAL SECTION\n",
        "\n",
        "#     # Note:  on a platform using IEEE-754 double arithmetic, this can\n",
        "#     # never return 0.0 (asserted by Tim; proof too long for a comment).\n",
        "#     return (x/30269.0 + y/30307.0 + z/30323.0) % 1.0"
      ]
    },
    {
      "cell_type": "markdown",
      "metadata": {
        "id": "HfLGo7hOjQWg"
      },
      "source": [
        "### from the operating system"
      ]
    },
    {
      "cell_type": "code",
      "execution_count": 7,
      "metadata": {
        "id": "49LtWuydjQWg"
      },
      "outputs": [],
      "source": [
        "# # https://github.com/python/cpython/blob/2.7/Lib/random.py\n",
        "# from binascii import hexlify as _hexlify\n",
        "# from os import urandom as _urandom\n",
        "# BPF = 53        # Number of bits in a float\n",
        "# RECIP_BPF = 2**-BPF\n",
        "# # x >> y\n",
        "# # Returns x with the bits shifted to the right by y places. This is the same as //'ing x by 2**y.\n",
        "# def random(self):\n",
        "#     \"\"\"Get the next random number in the range [0.0, 1.0).\"\"\"\n",
        "#     return (long(_hexlify(_urandom(7)), 16) >> 3) * RECIP_BPF"
      ]
    },
    {
      "cell_type": "markdown",
      "metadata": {
        "id": "EwJoZfBSjQWh"
      },
      "source": [
        "## What if you want integers?"
      ]
    },
    {
      "cell_type": "code",
      "execution_count": 8,
      "metadata": {
        "colab": {
          "base_uri": "https://localhost:8080/"
        },
        "id": "kZAXsvrHjQWh",
        "outputId": "e246c4e5-5487-4340-f2c4-e9cae6c0fa24"
      },
      "outputs": [
        {
          "output_type": "execute_result",
          "data": {
            "text/plain": [
              "8"
            ]
          },
          "metadata": {},
          "execution_count": 8
        }
      ],
      "source": [
        "from random import randint\n",
        "randint(1, 10)"
      ]
    },
    {
      "cell_type": "markdown",
      "metadata": {
        "id": "sQe7efWgjQWh"
      },
      "source": [
        "### source code"
      ]
    },
    {
      "cell_type": "code",
      "execution_count": 9,
      "metadata": {
        "id": "do5dcs52jQWh"
      },
      "outputs": [],
      "source": [
        "# # https://github.com/python/cpython/blob/2.7/Lib/random.py\n",
        "# # BPF = bits per float\n",
        "# def randrange(self, start, stop=None, step=1, _int=int):  _maxwidth=(1L<<BPF)):\n",
        "#     \"\"\"Choose a random item from range(start, stop[, step]).\n",
        "#     This fixes the problem with randint() which includes the\n",
        "#     endpoint; in Python this is usually not what you want.\n",
        "#     \"\"\"\n",
        "\n",
        "#     # This code is a bit messy to make it fast for the\n",
        "#     # common case while still doing adequate error checking.\n",
        "#     istart = _int(start)\n",
        "#     if istart != start:\n",
        "#         raise ValueError, \"non-integer arg 1 for randrange()\"\n",
        "#     if stop is None:\n",
        "#         if istart > 0:\n",
        "#             if istart >= _maxwidth:\n",
        "#                 return self._randbelow(istart)\n",
        "#             return _int(self.random() * istart)\n",
        "#         raise ValueError, \"empty range for randrange()\"\n",
        "\n",
        "#     # stop argument supplied.\n",
        "#     istop = _int(stop)\n",
        "#     if istop != stop:\n",
        "#         raise ValueError, \"non-integer stop for randrange()\"\n",
        "#     width = istop - istart\n",
        "#     if step == 1 and width > 0:\n",
        "#         # Note that\n",
        "#         #     int(istart + self.random()*width)\n",
        "#         # instead would be incorrect.  For example, consider istart\n",
        "#         # = -2 and istop = 0.  Then the guts would be in\n",
        "#         # -2.0 to 0.0 exclusive on both ends (ignoring that random()\n",
        "#         # might return 0.0), and because int() truncates toward 0, the\n",
        "#         # final result would be -1 or 0 (instead of -2 or -1).\n",
        "#         #     istart + int(self.random()*width)\n",
        "#         # would also be incorrect, for a subtler reason:  the RHS\n",
        "#         # can return a long, and then randrange() would also return\n",
        "#         # a long, but we're supposed to return an int (for backward\n",
        "#         # compatibility).\n",
        "\n",
        "#         if width >= _maxwidth:\n",
        "#             return _int(istart + self._randbelow(width))\n",
        "#         return _int(istart + _int(self.random()*width)) ### THE USUAL USE CASE\n",
        "#     if step == 1:\n",
        "#         raise ValueError, \"empty range for randrange() (%d,%d, %d)\" % (istart, istop, width)\n",
        "\n",
        "#     # Non-unit step argument supplied.\n",
        "#     istep = _int(step)\n",
        "#     if istep != step:\n",
        "#         raise ValueError, \"non-integer step for randrange()\"\n",
        "#     if istep > 0:\n",
        "#         n = (width + istep - 1) // istep\n",
        "#     elif istep < 0:\n",
        "#         n = (width + istep + 1) // istep\n",
        "#     else:\n",
        "#         raise ValueError, \"zero step for randrange()\"\n",
        "\n",
        "#     if n <= 0:\n",
        "#         raise ValueError, \"empty range for randrange()\"\n",
        "\n",
        "#     if n >= _maxwidth:\n",
        "#         return istart + istep*self._randbelow(n)\n",
        "#     return istart + istep*_int(self.random() * n)\n",
        "\n",
        "# def randint(self, a, b):\n",
        "#     \"\"\"Return random integer in range [a, b], including both end points.\n",
        "#     \"\"\"\n",
        "\n",
        "#     return self.randrange(a, b+1)"
      ]
    },
    {
      "cell_type": "markdown",
      "metadata": {
        "id": "wovJnNqdjQWj"
      },
      "source": [
        "### other distributions are also available"
      ]
    },
    {
      "cell_type": "code",
      "execution_count": 10,
      "metadata": {
        "colab": {
          "base_uri": "https://localhost:8080/",
          "height": 445
        },
        "id": "5CgfNvD4jQWj",
        "outputId": "55aa4f4a-7668-409b-f0d7-31aca607bd23"
      },
      "outputs": [
        {
          "output_type": "display_data",
          "data": {
            "text/plain": [
              "<Figure size 1000x500 with 1 Axes>"
            ],
            "image/png": "[encoded data removed]"
          },
          "metadata": {}
        }
      ],
      "source": [
        "from random import triangular\n",
        "fig = plt.hist([triangular(90, 101, 100) for i in range(1000)], bins = 100)"
      ]
    },
    {
      "cell_type": "markdown",
      "metadata": {
        "id": "o6miMWt-jQWj"
      },
      "source": [
        "### source code"
      ]
    },
    {
      "cell_type": "code",
      "execution_count": 11,
      "metadata": {
        "id": "9VHwxOW1jQWj"
      },
      "outputs": [],
      "source": [
        "# # https://github.com/python/cpython/blob/2.7/Lib/random.py\n",
        "# def scratch_triangular(self, low=0.0, high=1.0, mode=None):\n",
        "#     \"\"\"Triangular distribution.\n",
        "#     Continuous distribution bounded by given lower and upper limits,\n",
        "#     and having a given mode value in-between.\n",
        "#     http://en.wikipedia.org/wiki/Triangular_distribution\n",
        "#     \"\"\"\n",
        "#     u = self.random()\n",
        "#     try:\n",
        "#         c = 0.5 if mode is None else (mode - low) / (high - low)\n",
        "#     except ZeroDivisionError:\n",
        "#         return low\n",
        "#     if u > c:\n",
        "#         u = 1.0 - u\n",
        "#         c = 1.0 - c\n",
        "#         low, high = high, low\n",
        "#     return low + (high - low) * (u * c) ** 0.5\n"
      ]
    },
    {
      "cell_type": "markdown",
      "metadata": {
        "id": "JwPX3EmCjQWk"
      },
      "source": [
        "#### let's work through this"
      ]
    },
    {
      "cell_type": "code",
      "execution_count": 12,
      "metadata": {
        "colab": {
          "base_uri": "https://localhost:8080/"
        },
        "id": "I6Iqz2GojQWk",
        "outputId": "831423db-b6c8-49fd-8907-ed7041de92cb"
      },
      "outputs": [
        {
          "output_type": "stream",
          "name": "stdout",
          "text": [
            "u is  0.3753851394066471\n",
            "c is  0.25\n",
            "u is  0.6246148605933529\n",
            "c is  0.75\n",
            "high - low is  -1.0\n",
            "(high - low) * (u * c) ** 0.5 is -0.6844422148326437\n"
          ]
        },
        {
          "output_type": "execute_result",
          "data": {
            "text/plain": [
              "0.31555778516735633"
            ]
          },
          "metadata": {},
          "execution_count": 12
        }
      ],
      "source": [
        "low  =  0.0 \n",
        "high =  1.0\n",
        "mode = 0.25\n",
        "u    = random()\n",
        "c = 0.5 if mode is None else (mode - low) / (high - low)\n",
        "\n",
        "print(\"u is \", u)\n",
        "print(\"c is \", c)\n",
        "\n",
        "if u > c:\n",
        "    u = 1.0 - u\n",
        "    c = 1.0 - c\n",
        "    \n",
        "    print(\"u is \", u)\n",
        "    print(\"c is \", c)\n",
        "    \n",
        "    low, high = high, low\n",
        "\n",
        "print(\"high - low is \", high - low)\n",
        "print(\"(high - low) * (u * c) ** 0.5 is\", (high - low) * (u * c) ** 0.5)\n",
        "low + (high - low) * (u * c) ** 0.5\n"
      ]
    },
    {
      "cell_type": "markdown",
      "metadata": {
        "id": "kLBj91htjQWk"
      },
      "source": [
        "## What about a Gaussian/normal distribution?"
      ]
    },
    {
      "cell_type": "code",
      "execution_count": 13,
      "metadata": {
        "colab": {
          "base_uri": "https://localhost:8080/"
        },
        "id": "OZ0PsRtAjQWk",
        "outputId": "9dcbc30a-fafb-4b62-c35b-1d05fbad1fda"
      },
      "outputs": [
        {
          "output_type": "execute_result",
          "data": {
            "text/plain": [
              "-0.8623511324251987"
            ]
          },
          "metadata": {},
          "execution_count": 13
        }
      ],
      "source": [
        "from random import gauss\n",
        "gauss(0.0, 1.0)"
      ]
    },
    {
      "cell_type": "code",
      "execution_count": 14,
      "metadata": {
        "colab": {
          "base_uri": "https://localhost:8080/",
          "height": 445
        },
        "id": "hRsNkkYdjQWl",
        "outputId": "092dce2a-9969-46c9-cf6d-11ecd6d9f1f7"
      },
      "outputs": [
        {
          "output_type": "display_data",
          "data": {
            "text/plain": [
              "<Figure size 1000x500 with 1 Axes>"
            ],
            "image/png": "[encoded data removed]"
          },
          "metadata": {}
        }
      ],
      "source": [
        "gif = plt.hist([gauss(0.0, 1.0) for i in range(1000)], bins = 50)"
      ]
    },
    {
      "cell_type": "code",
      "execution_count": 15,
      "metadata": {
        "id": "U9yvlE5SjQWl"
      },
      "outputs": [],
      "source": [
        "# # https://github.com/python/cpython/blob/2.7/Lib/random.py\n",
        "# def gauss(self, mu, sigma):\n",
        "#     \"\"\"Gaussian distribution.\n",
        "#     mu is the mean, and sigma is the standard deviation.  This is\n",
        "#     slightly faster than the normalvariate() function.\n",
        "#     Not thread-safe without a lock around calls.\n",
        "#     \"\"\"\n",
        "\n",
        "#     # When x and y are two variables from [0, 1), uniformly\n",
        "#     # distributed, then\n",
        "#     #\n",
        "#     #    cos(2*pi*x)*sqrt(-2*log(1-y))\n",
        "#     #    sin(2*pi*x)*sqrt(-2*log(1-y))\n",
        "#     #\n",
        "#     # are two *independent* variables with normal distribution\n",
        "#     # (mu = 0, sigma = 1).\n",
        "#     # (Lambert Meertens)\n",
        "#     # (corrected version; bug discovered by Mike Miller, fixed by LM)\n",
        "\n",
        "\n",
        "#     random = self.random\n",
        "#     z = self.gauss_next\n",
        "#     self.gauss_next = None\n",
        "#     if z is None:\n",
        "#         x2pi = random() * TWOPI\n",
        "#         g2rad = _sqrt(-2.0 * _log(1.0 - random()))\n",
        "#         z = _cos(x2pi) * g2rad\n",
        "#         self.gauss_next = _sin(x2pi) * g2rad\n",
        "\n",
        "#     return mu + z*sigma\n"
      ]
    },
    {
      "cell_type": "markdown",
      "metadata": {
        "id": "IB3mtKZqjQWl"
      },
      "source": [
        "## Gamma distribution"
      ]
    },
    {
      "cell_type": "code",
      "execution_count": 16,
      "metadata": {
        "id": "CAh1V3g8jQWl"
      },
      "outputs": [],
      "source": [
        "# # we are not going to read this in detail!\n",
        "# def gammavariate(self, alpha, beta):\n",
        "#     \"\"\"Gamma distribution.  Not the gamma function!\n",
        "#     Conditions on the parameters are alpha > 0 and beta > 0.\n",
        "#     The probability distribution function is:\n",
        "#                 x ** (alpha - 1) * math.exp(-x / beta)\n",
        "#       pdf(x) =  --------------------------------------\n",
        "#                   math.gamma(alpha) * beta ** alpha\n",
        "#     \"\"\"\n",
        "\n",
        "#     # alpha > 0, beta > 0, mean is alpha*beta, variance is alpha*beta**2\n",
        "\n",
        "#     # Warning: a few older sources define the gamma distribution in terms\n",
        "#     # of alpha > -1.0\n",
        "#     if alpha <= 0.0 or beta <= 0.0:\n",
        "#         raise ValueError, 'gammavariate: alpha and beta must be > 0.0'\n",
        "\n",
        "#     random = self.random\n",
        "#     if alpha > 1.0:\n",
        "\n",
        "#         # Uses R.C.H. Cheng, \"The generation of Gamma\n",
        "#         # variables with non-integral shape parameters\",\n",
        "#         # Applied Statistics, (1977), 26, No. 1, p71-74\n",
        "\n",
        "#         ainv = _sqrt(2.0 * alpha - 1.0)\n",
        "#         bbb = alpha - LOG4\n",
        "#         ccc = alpha + ainv\n",
        "\n",
        "#         while 1:\n",
        "#             u1 = random()\n",
        "#             if not 1e-7 < u1 < .9999999:\n",
        "#                 continue\n",
        "#             u2 = 1.0 - random()\n",
        "#             v = _log(u1/(1.0-u1))/ainv\n",
        "#             x = alpha*_exp(v)\n",
        "#             z = u1*u1*u2\n",
        "#             r = bbb+ccc*v-x\n",
        "#             if r + SG_MAGICCONST - 4.5*z >= 0.0 or r >= _log(z):\n",
        "#                 return x * beta\n",
        "\n",
        "#     elif alpha == 1.0:\n",
        "#         # expovariate(1)\n",
        "#         u = random()\n",
        "#         while u <= 1e-7:\n",
        "#             u = random()\n",
        "#         return -_log(u) * beta\n",
        "\n",
        "#     else:   # alpha is between 0 and 1 (exclusive)\n",
        "\n",
        "#         # Uses ALGORITHM GS of Statistical Computing - Kennedy & Gentle\n",
        "\n",
        "#         while 1:\n",
        "#             u = random()\n",
        "#             b = (_e + alpha)/_e\n",
        "#             p = b*u\n",
        "#             if p <= 1.0:\n",
        "#                 x = p ** (1.0/alpha)\n",
        "#             else:\n",
        "#                 x = -_log((b-p)/alpha)\n",
        "#             u1 = random()\n",
        "#             if p > 1.0:\n",
        "#                 if u1 <= x ** (alpha - 1.0):\n",
        "#                     break\n",
        "#             elif u1 <= _exp(-x):\n",
        "#                 break\n",
        "#         return x * beta\n",
        "\n",
        "# # note that the beta distribution in turn is built off gamma distribution in code + in math\n",
        "# # https://math.stackexchange.com/questions/190670/how-exactly-are-the-beta-and-gamma-distributions-related\n",
        "# # and mistakes were made:\n",
        "# # https://mail.python.org/pipermail/python-bugs-list/2001-January/003752.html"
      ]
    },
    {
      "cell_type": "markdown",
      "metadata": {
        "id": "kX_mmw7XjQWm"
      },
      "source": [
        "##  Use your operating system directly"
      ]
    },
    {
      "cell_type": "code",
      "execution_count": 17,
      "metadata": {
        "colab": {
          "base_uri": "https://localhost:8080/"
        },
        "id": "ey1UeibRjQWm",
        "outputId": "8338fc3e-1b92-4f11-9750-fcd28f47dcda"
      },
      "outputs": [
        {
          "output_type": "stream",
          "name": "stdout",
          "text": [
            "b'\\xb8\\xf6Fjt'\n"
          ]
        }
      ],
      "source": [
        "import os\n",
        "rand_bytes = os.urandom(5)\n",
        "print(rand_bytes)"
      ]
    },
    {
      "cell_type": "code",
      "execution_count": 18,
      "metadata": {
        "colab": {
          "base_uri": "https://localhost:8080/"
        },
        "id": "RoAaPjQMjQWn",
        "outputId": "dd1ab8f4-9b74-4a8e-d30e-e6fe359ffefb"
      },
      "outputs": [
        {
          "output_type": "execute_result",
          "data": {
            "text/plain": [
              "bytes"
            ]
          },
          "metadata": {},
          "execution_count": 18
        }
      ],
      "source": [
        "type(rand_bytes)"
      ]
    },
    {
      "cell_type": "code",
      "execution_count": 19,
      "metadata": {
        "colab": {
          "base_uri": "https://localhost:8080/"
        },
        "id": "7CDf8udAjQWn",
        "outputId": "a9ad65a2-afd1-4819-b029-058dab9ca6d6"
      },
      "outputs": [
        {
          "output_type": "execute_result",
          "data": {
            "text/plain": [
              "794405792372"
            ]
          },
          "metadata": {},
          "execution_count": 19
        }
      ],
      "source": [
        "# big endian v. little endian\n",
        "int.from_bytes(rand_bytes, byteorder = 'big')"
      ]
    },
    {
      "cell_type": "code",
      "execution_count": 20,
      "metadata": {
        "colab": {
          "base_uri": "https://localhost:8080/"
        },
        "id": "-ylLDQkvjQWn",
        "outputId": "c8e6388f-1712-469d-cbbc-a9d29d58211c"
      },
      "outputs": [
        {
          "output_type": "execute_result",
          "data": {
            "text/plain": [
              "499999241912"
            ]
          },
          "metadata": {},
          "execution_count": 20
        }
      ],
      "source": [
        "int.from_bytes(rand_bytes, byteorder = 'little')"
      ]
    },
    {
      "cell_type": "markdown",
      "metadata": {
        "id": "QPl5xfDljQWn"
      },
      "source": [
        "## How to make correlated data?"
      ]
    },
    {
      "cell_type": "code",
      "execution_count": 21,
      "metadata": {
        "colab": {
          "base_uri": "https://localhost:8080/",
          "height": 462
        },
        "id": "N1TxA1kvjQWn",
        "outputId": "945ccbc3-e376-4a60-be8a-f2dfc4f95e05"
      },
      "outputs": [
        {
          "output_type": "execute_result",
          "data": {
            "text/plain": [
              "<matplotlib.collections.PathCollection at 0x7fd9b9531cc0>"
            ]
          },
          "metadata": {},
          "execution_count": 21
        },
        {
          "output_type": "display_data",
          "data": {
            "text/plain": [
              "<Figure size 1000x500 with 1 Axes>"
            ],
            "image/png": "[encoded data removed]"
          },
          "metadata": {}
        }
      ],
      "source": [
        "rand_vals = np.random.normal(size = [500, 2])\n",
        "cor = 0.0 # -0.5\n",
        "cov_mat = np.array([[1.0, cor], [cor, 1.0]])\n",
        "correlated = np.dot(rand_vals, cov_mat)\n",
        "plt.scatter(correlated[:, 0], correlated[:, 1])"
      ]
    },
    {
      "cell_type": "code",
      "execution_count": 21,
      "metadata": {
        "id": "QsbdY5KOjQWo"
      },
      "outputs": [],
      "source": []
    }
  ],
  "metadata": {
    "kernelspec": {
      "display_name": "Python 3",
      "language": "python",
      "name": "python3"
    },
    "language_info": {
      "codemirror_mode": {
        "name": "ipython",
        "version": 3
      },
      "file_extension": ".py",
      "mimetype": "text/x-python",
      "name": "python",
      "nbconvert_exporter": "python",
      "pygments_lexer": "ipython3",
      "version": "3.6.8"
    },
    "colab": {
      "provenance": [],
      "toc_visible": true,
      "include_colab_link": true
    }
  },
  "nbformat": 4,
  "nbformat_minor": 0
}